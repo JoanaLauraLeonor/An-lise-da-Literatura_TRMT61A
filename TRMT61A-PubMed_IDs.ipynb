{
 "cells": [
  {
   "cell_type": "markdown",
   "metadata": {},
   "source": [
    "Análise de literatura - PubMed - GENE TRMT61A\n",
    "Nota:Para a realização de todo o código do trabalho teve-se em conta o tutorial do Biopython. \n",
    "Consoante os códigos que estavam disponíveis no tutorial, tentamos adaptá-los aos genes de interesse, neste caso tentamos adaptar ao gene TRMT61A."
   ]
  },
  {
   "cell_type": "markdown",
   "metadata": {},
   "source": [
    "1.Numa primeira fase, recorreu-se a algumas funções do Bio.Entrez para se aceder a base de dados PubMed, para o gene TRMT61A.Ou seja, consultou-se no PubMed todos os artigos relativos ao gene TRMT61A.\n",
    "Este pequeno código posteriormente apresentado, indica quantos artigos sobre este gene existem no PubMed, 3 artigos."
   ]
  },
  {
   "cell_type": "code",
   "execution_count": 1,
   "metadata": {},
   "outputs": [
    {
     "name": "stdout",
     "output_type": "stream",
     "text": [
      "3\n"
     ]
    }
   ],
   "source": [
    "from Bio import Entrez\n",
    "Entrez.email = \"joanafigueiredo2014@gmail.com\" \n",
    "handle = Entrez.egquery(term=\"TRMT61A\")\n",
    "record = Entrez.read(handle)\n",
    "for row in record[\"eGQueryResult\"]:\n",
    "    if row[\"DbName\"]==\"pubmed\":\n",
    "        print(row[\"Count\"])"
   ]
  },
  {
   "cell_type": "markdown",
   "metadata": {},
   "source": [
    "2.Seguidamente, utilizou-se as funções Bio.Entrez.esearch e Bio.Entrez.read para fazer o download de todos os IDs dos 3 artigos relacionados com o gene TRMT61A. \n",
    "Posteriormente imprimiu-se a lista que contem todos esses IDs de cada um dos artigos do PubMed."
   ]
  },
  {
   "cell_type": "code",
   "execution_count": 2,
   "metadata": {},
   "outputs": [],
   "source": [
    "from Bio import Entrez\n",
    "Entrez.email = \"joanafigueiredo2014@gmail.com\" \n",
    "handle = Entrez.esearch(db=\"pubmed\", term=\"TRMT61A\", retmax=3)\n",
    "record = Entrez.read(handle)\n",
    "handle.close()\n",
    "idlist = record[\"IdList\"]"
   ]
  },
  {
   "cell_type": "code",
   "execution_count": 3,
   "metadata": {},
   "outputs": [
    {
     "name": "stdout",
     "output_type": "stream",
     "text": [
      "['30131402', '29072297', '23097428']\n"
     ]
    }
   ],
   "source": [
    "print(idlist)#obtém-se todos os PMIDs"
   ]
  },
  {
   "cell_type": "markdown",
   "metadata": {},
   "source": [
    "3.Depois de se ter a lista de todos os IDs, dos 3 artigos, pretende-se obter os registos Medline correspondentes para se poder extrair informações a partir deles. \n",
    "Para isso fez se o download dos registos Medline no formato de arquivo simples Medline e utiliza-se o módulo Bio.Medline para analisar esse mesmos registos. Posteriormente imprimiu-se toda a informação contida em cada um dos artigos (records) numa lista.\n",
    "Assim, consegue-se saber muito superficialmente, se algum dos artigos relaciona este gene TRMT61A com o cancro ou não (ou mais especificamente, se está relacionado com o cancro da mama ou não), analisando alguns parâmetros de cada um dos records, por exemplo."
   ]
  },
  {
   "cell_type": "code",
   "execution_count": 4,
   "metadata": {},
   "outputs": [],
   "source": [
    "from Bio import Medline\n",
    "handle = Entrez.efetch(db=\"pubmed\", id=idlist, rettype=\"medline\",retmode=\"text\")\n",
    "records = Medline.parse(handle)#para analisar os registos"
   ]
  },
  {
   "cell_type": "code",
   "execution_count": 5,
   "metadata": {},
   "outputs": [
    {
     "data": {
      "text/plain": [
       "[{'PMID': '30131402',\n",
       "  'OWN': 'NLM',\n",
       "  'STAT': 'MEDLINE',\n",
       "  'DCOM': '20181231',\n",
       "  'LR': '20191101',\n",
       "  'IS': '1469-9001 (Electronic) 1355-8382 (Linking)',\n",
       "  'VI': '24',\n",
       "  'IP': '11',\n",
       "  'DP': '2018 Nov',\n",
       "  'TI': 'm(1)A within cytoplasmic mRNAs at single nucleotide resolution: a reconciled transcriptome-wide map.',\n",
       "  'PG': '1427-1436',\n",
       "  'LID': '10.1261/rna.067348.118 [doi]',\n",
       "  'AB': 'Following synthesis, RNA can be modified with over 100 chemically distinct modifications. Recently, two studies-one by our group-developed conceptually similar approaches to globally map N1-methyladenosine (m(1)A) at single nucleotide resolution. Surprisingly, the studies diverged quite substantially in their estimates of the abundance, whereabouts, and stoichiometry of m(1)A within internal sites in cytosolic mRNAs: One study reported it to be a very rare modification, present at very low stoichiometries, and invariably catalyzed by TRMT6/61A. The other found it to be present at >470 sites, often at high levels, and suggested that the vast majority were highly unlikely to be TRMT6/61A substrates. Here we reanalyze the data from the latter study, and demonstrate that the vast majority of the detected sites originate from duplications, misannotations, mismapping, SNPs, sequencing errors, and a set of sites from the very first transcribed base that appear to originate from nontemplated incorporations by reverse transcriptase. Only 53 of the sites detected in the latter study likely reflect bona-fide internal modifications of cytoplasmically encoded mRNA molecules, nearly all of which are likely TRMT6/TRMT61A substrates and typically modified at low to undetectable levels. The experimental data sets from both studies thus consistently demonstrate that within cytosolic mRNAs, m(1)A is a rare internal modification where it is typically catalyzed at very low stoichiometries via a single complex. Our findings offer a clear and consistent view on the abundance and whereabouts of m(1)A, and lay out directions for future studies.',\n",
       "  'CI': ['(c) 2018 Schwartz; Published by Cold Spring Harbor Laboratory Press for the RNA',\n",
       "   'Society.'],\n",
       "  'FAU': ['Schwartz, Schraga'],\n",
       "  'AU': ['Schwartz S'],\n",
       "  'AUID': ['ORCID: 0000-0002-3671-9709'],\n",
       "  'AD': 'Department of Molecular Genetics, Weizmann Institute of Science, Rehovot 76100, Israel.',\n",
       "  'LA': ['eng'],\n",
       "  'PT': ['Journal Article', \"Research Support, Non-U.S. Gov't\"],\n",
       "  'DEP': '20180821',\n",
       "  'PL': 'United States',\n",
       "  'TA': 'RNA',\n",
       "  'JT': 'RNA (New York, N.Y.)',\n",
       "  'JID': '9509184',\n",
       "  'RN': ['0 (CRLS1 protein, human)',\n",
       "   '0 (Membrane Proteins)',\n",
       "   '0 (RNA, Messenger)',\n",
       "   'EC 2.1.1.- (tRNA Methyltransferases)',\n",
       "   'EC 2.1.1.220 (tRNA (adenine(58)-N(1))-methyltransferase)',\n",
       "   'K72T3FS567 (Adenosine)'],\n",
       "  'SB': 'IM',\n",
       "  'MH': ['Adenosine/chemistry',\n",
       "   'Humans',\n",
       "   'Membrane Proteins/metabolism',\n",
       "   'Methylation',\n",
       "   'Polymorphism, Single Nucleotide',\n",
       "   '*RNA Processing, Post-Transcriptional',\n",
       "   'RNA, Messenger/chemistry/*genetics',\n",
       "   'Transcription Initiation Site',\n",
       "   '*Transcriptome',\n",
       "   'tRNA Methyltransferases/metabolism'],\n",
       "  'PMC': 'PMC6191711',\n",
       "  'OTO': ['NOTNLM'],\n",
       "  'OT': ['*RNA modifications',\n",
       "   '*epitranscriptome',\n",
       "   '*m1A',\n",
       "   '*post-transcriptional regulation'],\n",
       "  'EDAT': '2018/08/23 06:00',\n",
       "  'MHDA': '2019/01/01 06:00',\n",
       "  'CRDT': ['2018/08/23 06:00'],\n",
       "  'PHST': ['2018/08/23 06:00 [pubmed]',\n",
       "   '2019/01/01 06:00 [medline]',\n",
       "   '2018/08/23 06:00 [entrez]'],\n",
       "  'AID': ['rna.067348.118 [pii]', '10.1261/rna.067348.118 [doi]'],\n",
       "  'PST': 'ppublish',\n",
       "  'SO': 'RNA. 2018 Nov;24(11):1427-1436. doi: 10.1261/rna.067348.118. Epub 2018 Aug 21.'},\n",
       " {'PMID': '29072297',\n",
       "  'OWN': 'NLM',\n",
       "  'STAT': 'MEDLINE',\n",
       "  'DCOM': '20180326',\n",
       "  'LR': '20191210',\n",
       "  'IS': '1476-4687 (Electronic) 0028-0836 (Linking)',\n",
       "  'VI': '551',\n",
       "  'IP': '7679',\n",
       "  'DP': '2017 Nov 9',\n",
       "  'TI': 'The m1A landscape on cytosolic and mitochondrial mRNA at single-base resolution.',\n",
       "  'PG': '251-255',\n",
       "  'LID': '10.1038/nature24456 [doi]',\n",
       "  'AB': 'Modifications on mRNA offer the potential of regulating mRNA fate post-transcriptionally. Recent studies suggested the widespread presence of N(1)-methyladenosine (m(1)A), which disrupts Watson-Crick base pairing, at internal sites of mRNAs. These studies lacked the resolution of identifying individual modified bases, and did not identify specific sequence motifs undergoing the modification or an enzymatic machinery catalysing them, rendering it challenging to validate and functionally characterize putative sites. Here we develop an approach that allows the transcriptome-wide mapping of m(1)A at single-nucleotide resolution. Within the cytosol, m(1)A is present in a low number of mRNAs, typically at low stoichiometries, and almost invariably in tRNA T-loop-like structures, where it is introduced by the TRMT6/TRMT61A complex. We identify a single m(1)A site in the mitochondrial ND5 mRNA, catalysed by TRMT10C, with methylation levels that are highly tissue specific and tightly developmentally controlled. m(1)A leads to translational repression, probably through a mechanism involving ribosomal scanning or translation. Our findings suggest that m(1)A on mRNA, probably because of its disruptive impact on base pairing, leads to translational repression, and is generally avoided by cells, while revealing one case in mitochondria where tight spatiotemporal control over m(1)A levels was adopted as a potential means of post-transcriptional regulation.',\n",
       "  'FAU': ['Safra, Modi',\n",
       "   'Sas-Chen, Aldema',\n",
       "   'Nir, Ronit',\n",
       "   'Winkler, Roni',\n",
       "   'Nachshon, Aharon',\n",
       "   'Bar-Yaacov, Dan',\n",
       "   'Erlacher, Matthias',\n",
       "   'Rossmanith, Walter',\n",
       "   'Stern-Ginossar, Noam',\n",
       "   'Schwartz, Schraga'],\n",
       "  'AU': ['Safra M',\n",
       "   'Sas-Chen A',\n",
       "   'Nir R',\n",
       "   'Winkler R',\n",
       "   'Nachshon A',\n",
       "   'Bar-Yaacov D',\n",
       "   'Erlacher M',\n",
       "   'Rossmanith W',\n",
       "   'Stern-Ginossar N',\n",
       "   'Schwartz S'],\n",
       "  'AD': 'Department of Molecular Genetics, Weizmann Institute of Science, Rehovot 76100, Israel. Department of Molecular Genetics, Weizmann Institute of Science, Rehovot 76100, Israel. Department of Molecular Genetics, Weizmann Institute of Science, Rehovot 76100, Israel. Department of Molecular Genetics, Weizmann Institute of Science, Rehovot 76100, Israel. Department of Molecular Genetics, Weizmann Institute of Science, Rehovot 76100, Israel. Department of Molecular Genetics, Weizmann Institute of Science, Rehovot 76100, Israel. Division of Genomics and RNomics, Biocenter Innsbruck, Medical University of Innsbruck, Innrain 80/82, Innsbruck, 6020, Austria. Center for Anatomy and Cell Biology, Medical University of Vienna, Vienna 1090, Austria. Department of Molecular Genetics, Weizmann Institute of Science, Rehovot 76100, Israel. Department of Molecular Genetics, Weizmann Institute of Science, Rehovot 76100, Israel.',\n",
       "  'LA': ['eng'],\n",
       "  'PT': ['Journal Article', \"Research Support, Non-U.S. Gov't\"],\n",
       "  'DEP': '20171025',\n",
       "  'PL': 'England',\n",
       "  'TA': 'Nature',\n",
       "  'JT': 'Nature',\n",
       "  'JID': '0410462',\n",
       "  'RN': ['0 (CRLS1 protein, human)',\n",
       "   '0 (Membrane Proteins)',\n",
       "   '0 (Mitochondrial Proteins)',\n",
       "   '0 (RNA, Messenger)',\n",
       "   '0 (RNA, Mitochondrial)',\n",
       "   '0 (mitochondrial messenger RNA)',\n",
       "   '15763-06-1 (1-methyladenosine)',\n",
       "   '63231-63-0 (RNA)',\n",
       "   '9014-25-9 (RNA, Transfer)',\n",
       "   'EC 1.6.99.3 (ND5 protein, human)',\n",
       "   'EC 2.1.1.- (Methyltransferases)',\n",
       "   'EC 2.1.1.- (TRMT10c protein, human)',\n",
       "   'EC 2.1.1.- (tRNA Methyltransferases)',\n",
       "   'EC 2.1.1.220 (TRM61 protein, human)',\n",
       "   'EC 7.1.1.2 (Electron Transport Complex I)',\n",
       "   'K72T3FS567 (Adenosine)'],\n",
       "  'SB': 'IM',\n",
       "  'CIN': ['Nature. 2017 Nov 9;551(7679):174-176. PMID: 29072301'],\n",
       "  'MH': ['Adenosine/*analogs & derivatives/metabolism',\n",
       "   'Base Pairing',\n",
       "   'Cytosol/*metabolism',\n",
       "   'Electron Transport Complex I/biosynthesis/genetics',\n",
       "   'Gene Expression Regulation',\n",
       "   'HEK293 Cells',\n",
       "   'Humans',\n",
       "   'Membrane Proteins/genetics/metabolism',\n",
       "   'Methylation',\n",
       "   'Methyltransferases/metabolism',\n",
       "   'Mitochondria/*genetics',\n",
       "   'Mitochondrial Proteins/biosynthesis/genetics',\n",
       "   'Organ Specificity',\n",
       "   'Protein Biosynthesis',\n",
       "   'RNA/*chemistry/genetics/*metabolism',\n",
       "   'RNA, Messenger/*chemistry/genetics/*metabolism',\n",
       "   'RNA, Mitochondrial',\n",
       "   'RNA, Transfer/metabolism',\n",
       "   'Transcriptome',\n",
       "   'tRNA Methyltransferases/genetics/metabolism'],\n",
       "  'EDAT': '2017/10/27 06:00',\n",
       "  'MHDA': '2018/03/27 06:00',\n",
       "  'CRDT': ['2017/10/27 06:00'],\n",
       "  'PHST': ['2017/04/18 00:00 [received]',\n",
       "   '2017/09/26 00:00 [accepted]',\n",
       "   '2017/10/27 06:00 [pubmed]',\n",
       "   '2018/03/27 06:00 [medline]',\n",
       "   '2017/10/27 06:00 [entrez]'],\n",
       "  'AID': ['nature24456 [pii]', '10.1038/nature24456 [doi]'],\n",
       "  'PST': 'ppublish',\n",
       "  'SO': 'Nature. 2017 Nov 9;551(7679):251-255. doi: 10.1038/nature24456. Epub 2017 Oct 25.'},\n",
       " {'PMID': '23097428',\n",
       "  'OWN': 'NLM',\n",
       "  'STAT': 'MEDLINE',\n",
       "  'DCOM': '20130131',\n",
       "  'LR': '20181202',\n",
       "  'IS': '1469-9001 (Electronic) 1355-8382 (Linking)',\n",
       "  'VI': '18',\n",
       "  'IP': '12',\n",
       "  'DP': '2012 Dec',\n",
       "  'TI': 'Trmt61B is a methyltransferase responsible for 1-methyladenosine at position 58 of human mitochondrial tRNAs.',\n",
       "  'PG': '2269-76',\n",
       "  'LID': '10.1261/rna.035600.112 [doi]',\n",
       "  'AB': 'In human mitochondria, 1-methyladenosine (m(1)A) occurs at position 58 of tRNA(Leu(UUR)). In addition, partial m(1)A58 modifications have been found in human mitochondrial tRNA(Lys) and tRNA(Ser(UCN)). We identified human Trmt61B, which encodes a mitochondria-specific tRNA methyltransferase responsible for m(1)A58 in these three tRNAs. Trmt61B is dominantly localized to the mitochondria. m(1)A58 formation in human mitochondrial tRNA(Leu(UUR)) could be reconstituted in vitro using recombinant Trmt61B in the presence of Ado-Met as a methyl donor. Unlike the cytoplasmic tRNA m(1)A58 methyltransferase that consists of an alpha2beta2 heterotetramer formed by Trmt61A and Trmt6, Trmt61B formed a homo-oligomer (presumably a homotetramer) that resembled the bacterial homotetrameric m(1)A58 methyltransferase. The bacterial origin of Trmt61B is supported by the results of the phylogenetic analysis.',\n",
       "  'FAU': ['Chujo, Takeshi', 'Suzuki, Tsutomu'],\n",
       "  'AU': ['Chujo T', 'Suzuki T'],\n",
       "  'AD': 'Department of Chemistry and Biotechnology, Graduate School of Engineering, University of Tokyo, Tokyo, 7-3-1 Hongo, Bunkyo-ku, Tokyo 113-8656, Japan.',\n",
       "  'LA': ['eng'],\n",
       "  'PT': ['Journal Article', \"Research Support, Non-U.S. Gov't\"],\n",
       "  'DEP': '20121024',\n",
       "  'PL': 'United States',\n",
       "  'TA': 'RNA',\n",
       "  'JT': 'RNA (New York, N.Y.)',\n",
       "  'JID': '9509184',\n",
       "  'RN': ['0 (Bacterial Proteins)',\n",
       "   '0 (RNA, Mitochondrial)',\n",
       "   '0 (Recombinant Proteins)',\n",
       "   '15763-06-1 (1-methyladenosine)',\n",
       "   '63231-63-0 (RNA)',\n",
       "   '9014-25-9 (RNA, Transfer)',\n",
       "   'EC 2.1.1.- (Trmt61B protein, human)',\n",
       "   'EC 2.1.1.- (tRNA Methyltransferases)',\n",
       "   'K72T3FS567 (Adenosine)'],\n",
       "  'SB': 'IM',\n",
       "  'MH': ['Adenosine/*analogs & derivatives/metabolism',\n",
       "   'Amino Acid Sequence',\n",
       "   'Bacterial Proteins/genetics',\n",
       "   'HeLa Cells',\n",
       "   'Humans',\n",
       "   'Mitochondria/metabolism',\n",
       "   'Molecular Sequence Data',\n",
       "   'Nucleic Acid Conformation',\n",
       "   'Phylogeny',\n",
       "   'Protein Structure, Quaternary',\n",
       "   'RNA/chemistry/genetics/*metabolism',\n",
       "   'RNA, Mitochondrial',\n",
       "   'RNA, Transfer/chemistry/genetics/*metabolism',\n",
       "   'Recombinant Proteins/chemistry/genetics/metabolism',\n",
       "   'Sequence Homology, Amino Acid',\n",
       "   'tRNA Methyltransferases/chemistry/genetics/*metabolism'],\n",
       "  'PMC': 'PMC3504677',\n",
       "  'EDAT': '2012/10/26 06:00',\n",
       "  'MHDA': '2013/02/01 06:00',\n",
       "  'CRDT': ['2012/10/26 06:00'],\n",
       "  'PHST': ['2012/10/26 06:00 [entrez]',\n",
       "   '2012/10/26 06:00 [pubmed]',\n",
       "   '2013/02/01 06:00 [medline]'],\n",
       "  'AID': ['rna.035600.112 [pii]', '10.1261/rna.035600.112 [doi]'],\n",
       "  'PST': 'ppublish',\n",
       "  'SO': 'RNA. 2012 Dec;18(12):2269-76. doi: 10.1261/rna.035600.112. Epub 2012 Oct 24.'}]"
      ]
     },
     "execution_count": 5,
     "metadata": {},
     "output_type": "execute_result"
    }
   ],
   "source": [
    "records = list(records)\n",
    "# obtém-se toda a informação contida em cada um dos artigos\n",
    "#Posteriormente, explorando alguns parâmetros em cada um dos artigos conseguimos ter uma perceção rápida em relação a que temas são abordados nos artigos. \n",
    "records "
   ]
  },
  {
   "cell_type": "markdown",
   "metadata": {},
   "source": [
    "4.Posteriormente com o ciclo for que se encontra no código abaixo, obtém-se informações mais relevantes sobre cada um dos artigos do PubMed como: o título do artigo, os autores do artigo e ainda, a fonte do artigo (para cada um dos 3 artigos que se encontram no PubMed relacionados com este gene TRMT61A)."
   ]
  },
  {
   "cell_type": "code",
   "execution_count": 6,
   "metadata": {},
   "outputs": [
    {
     "name": "stdout",
     "output_type": "stream",
     "text": [
      "title: m(1)A within cytoplasmic mRNAs at single nucleotide resolution: a reconciled transcriptome-wide map.\n",
      "authors: ['Schwartz S']\n",
      "source: RNA. 2018 Nov;24(11):1427-1436. doi: 10.1261/rna.067348.118. Epub 2018 Aug 21.\n",
      "\n",
      "title: The m1A landscape on cytosolic and mitochondrial mRNA at single-base resolution.\n",
      "authors: ['Safra M', 'Sas-Chen A', 'Nir R', 'Winkler R', 'Nachshon A', 'Bar-Yaacov D', 'Erlacher M', 'Rossmanith W', 'Stern-Ginossar N', 'Schwartz S']\n",
      "source: Nature. 2017 Nov 9;551(7679):251-255. doi: 10.1038/nature24456. Epub 2017 Oct 25.\n",
      "\n",
      "title: Trmt61B is a methyltransferase responsible for 1-methyladenosine at position 58 of human mitochondrial tRNAs.\n",
      "authors: ['Chujo T', 'Suzuki T']\n",
      "source: RNA. 2012 Dec;18(12):2269-76. doi: 10.1261/rna.035600.112. Epub 2012 Oct 24.\n",
      "\n"
     ]
    }
   ],
   "source": [
    "for record in records:\n",
    "    print(\"title:\", record.get(\"TI\", \"?\"))\n",
    "    print(\"authors:\", record.get(\"AU\", \"?\"))\n",
    "    print(\"source:\", record.get(\"SO\", \"?\"))\n",
    "    print(\"\")\n"
   ]
  },
  {
   "cell_type": "markdown",
   "metadata": {},
   "source": [
    "5.O objetivo que agora era pretendido, era procurar em cada um dos 3 artigos do PubMed, qual/quais dos artigos se relacionavam com cancro.Porém como estávamos a falar do cancro numa zona espefífica do corpo, se se obtivessem resultados na procura anterior, ía-se procurar todos os artigos relacionados com o cancro da mama.\n",
    "Raciocínio inicial que se pretendia implementar:\n",
    "ID->título->abstract->Progonóstico (CANCRO ou CANCRO DA MAMA)\n",
    "lista_artigos = lista com os 3 IDs\n",
    "artigos_para_reter = lista vazia # lista dos IDs dos artigos que contém informação sobre o cancro ou mais especificamente, sobre o cancro da mama \n",
    "for a in lista_artigos: # o \"a\" é um ID da lista_artigos\n",
    "    if “prognostic” in a.abstract:\n",
    "\t\tartigo_para_reter.append(a)\n",
    "    \n",
    "PROBLEMA que encontamos: Não reconhece Strings no Abstract!\n"
   ]
  },
  {
   "cell_type": "code",
   "execution_count": 7,
   "metadata": {},
   "outputs": [
    {
     "name": "stdout",
     "output_type": "stream",
     "text": [
      "Abstract: Following synthesis, RNA can be modified with over 100 chemically distinct modifications. Recently, two studies-one by our group-developed conceptually similar approaches to globally map N1-methyladenosine (m(1)A) at single nucleotide resolution. Surprisingly, the studies diverged quite substantially in their estimates of the abundance, whereabouts, and stoichiometry of m(1)A within internal sites in cytosolic mRNAs: One study reported it to be a very rare modification, present at very low stoichiometries, and invariably catalyzed by TRMT6/61A. The other found it to be present at >470 sites, often at high levels, and suggested that the vast majority were highly unlikely to be TRMT6/61A substrates. Here we reanalyze the data from the latter study, and demonstrate that the vast majority of the detected sites originate from duplications, misannotations, mismapping, SNPs, sequencing errors, and a set of sites from the very first transcribed base that appear to originate from nontemplated incorporations by reverse transcriptase. Only 53 of the sites detected in the latter study likely reflect bona-fide internal modifications of cytoplasmically encoded mRNA molecules, nearly all of which are likely TRMT6/TRMT61A substrates and typically modified at low to undetectable levels. The experimental data sets from both studies thus consistently demonstrate that within cytosolic mRNAs, m(1)A is a rare internal modification where it is typically catalyzed at very low stoichiometries via a single complex. Our findings offer a clear and consistent view on the abundance and whereabouts of m(1)A, and lay out directions for future studies.\n",
      "Abstract: Modifications on mRNA offer the potential of regulating mRNA fate post-transcriptionally. Recent studies suggested the widespread presence of N(1)-methyladenosine (m(1)A), which disrupts Watson-Crick base pairing, at internal sites of mRNAs. These studies lacked the resolution of identifying individual modified bases, and did not identify specific sequence motifs undergoing the modification or an enzymatic machinery catalysing them, rendering it challenging to validate and functionally characterize putative sites. Here we develop an approach that allows the transcriptome-wide mapping of m(1)A at single-nucleotide resolution. Within the cytosol, m(1)A is present in a low number of mRNAs, typically at low stoichiometries, and almost invariably in tRNA T-loop-like structures, where it is introduced by the TRMT6/TRMT61A complex. We identify a single m(1)A site in the mitochondrial ND5 mRNA, catalysed by TRMT10C, with methylation levels that are highly tissue specific and tightly developmentally controlled. m(1)A leads to translational repression, probably through a mechanism involving ribosomal scanning or translation. Our findings suggest that m(1)A on mRNA, probably because of its disruptive impact on base pairing, leads to translational repression, and is generally avoided by cells, while revealing one case in mitochondria where tight spatiotemporal control over m(1)A levels was adopted as a potential means of post-transcriptional regulation.\n",
      "Abstract: In human mitochondria, 1-methyladenosine (m(1)A) occurs at position 58 of tRNA(Leu(UUR)). In addition, partial m(1)A58 modifications have been found in human mitochondrial tRNA(Lys) and tRNA(Ser(UCN)). We identified human Trmt61B, which encodes a mitochondria-specific tRNA methyltransferase responsible for m(1)A58 in these three tRNAs. Trmt61B is dominantly localized to the mitochondria. m(1)A58 formation in human mitochondrial tRNA(Leu(UUR)) could be reconstituted in vitro using recombinant Trmt61B in the presence of Ado-Met as a methyl donor. Unlike the cytoplasmic tRNA m(1)A58 methyltransferase that consists of an alpha2beta2 heterotetramer formed by Trmt61A and Trmt6, Trmt61B formed a homo-oligomer (presumably a homotetramer) that resembled the bacterial homotetrameric m(1)A58 methyltransferase. The bacterial origin of Trmt61B is supported by the results of the phylogenetic analysis.\n"
     ]
    }
   ],
   "source": [
    "for record in records:\n",
    "    print(\"Abstract:\", record.get(\"AB\", \"?\"))"
   ]
  },
  {
   "cell_type": "code",
   "execution_count": null,
   "metadata": {},
   "outputs": [],
   "source": [
    "#NÃO FUNCIONA!\n",
    "lista_artigos = idlist\n",
    "artigos_para_reter =[] # lista dos IDs dos artigos que contém informação sobre o cancro ou mais especificamente, sobre o cancro da mama \n",
    "for a in lista_artigos: # o \"a\" é um ID da lista_artigos\n",
    "    if \"CANCER\" in a.Abstract:\n",
    "        artigos_para_reter.append(a)\n",
    "print(artigos_para_reter)"
   ]
  },
  {
   "cell_type": "markdown",
   "metadata": {},
   "source": [
    "6.Com o código que se apresenta de seguida obtém-se num ficheiro com todos os artigos do PubMed relacionados com o gene TRMT61A, com todas as informações que eles contêm. Ou seja, obtém-se num ficheiro tudo o que se encontra em cada um dos 3 atigos e, posteriormente consegue-se se saber se algum dos artigos nos dá indicações sobre o facto de este gene estar relacionado com o cancro ou não (ou mais especificamente, se está relacionado com o cancro da mama ou não).É uma alternativa ao que foi realizado em parte no passo 3."
   ]
  },
  {
   "cell_type": "code",
   "execution_count": 10,
   "metadata": {},
   "outputs": [
    {
     "name": "stdout",
     "output_type": "stream",
     "text": [
      "Found 3 results\n",
      "Going to download record 1 to 3\n"
     ]
    }
   ],
   "source": [
    "from Bio import Entrez\n",
    "Entrez.email = \"joanafigueiredo2014@gmail.com\"\n",
    "search_results = Entrez.read(Entrez.esearch(db=\"pubmed\", term=\"ELP4\", reldate=500, datetype=\"pdat\", usehistory=\"y\"))\n",
    "count = int(search_results[\"Count\"])\n",
    "print(\"Found %i results\" % count)\n",
    "batch_size = 3\n",
    "out_handle = open(\"recent_TRMT61A_papers.txt\", \"w\")\n",
    "for start in range(0,count,batch_size):\n",
    "    end = min(count, start+batch_size)\n",
    "    print(\"Going to download record %i to %i\" % (start+1, end))\n",
    "    fetch_handle = Entrez.efetch(db=\"pubmed\",rettype=\"medline\",retmode=\"text\",retstart=start,retmax=batch_size,webenv=search_results[\"WebEnv\"],query_key=search_results[\"QueryKey\"])\n",
    "    data = fetch_handle.read()\n",
    "    fetch_handle.close()\n",
    "out_handle.write(data)\n",
    "out_handle.close()"
   ]
  }
 ],
 "metadata": {
  "kernelspec": {
   "display_name": "Python 3",
   "language": "python",
   "name": "python3"
  },
  "language_info": {
   "codemirror_mode": {
    "name": "ipython",
    "version": 3
   },
   "file_extension": ".py",
   "mimetype": "text/x-python",
   "name": "python",
   "nbconvert_exporter": "python",
   "pygments_lexer": "ipython3",
   "version": "3.7.3"
  }
 },
 "nbformat": 4,
 "nbformat_minor": 2
}
